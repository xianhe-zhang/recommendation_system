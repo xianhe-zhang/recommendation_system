{
 "cells": [
  {
   "cell_type": "code",
   "execution_count": 3,
   "id": "492b389b",
   "metadata": {},
   "outputs": [],
   "source": [
    "import pandas as pd"
   ]
  },
  {
   "cell_type": "markdown",
   "id": "df8f991e",
   "metadata": {},
   "source": [
    "# 读取csv"
   ]
  },
  {
   "cell_type": "code",
   "execution_count": 4,
   "id": "2057207a",
   "metadata": {},
   "outputs": [],
   "source": [
    "BASE_PATH = '../data/anime'\n",
    "anime_df = pd.read_csv(f'{BASE_PATH}/merged_anime.csv', index_col='anime_id')\n",
    "rating_df = pd.read_csv(f'{BASE_PATH}/rating.csv')"
   ]
  },
  {
   "cell_type": "markdown",
   "id": "8444d1a3",
   "metadata": {},
   "source": [
    "# 1. 数据格式"
   ]
  },
  {
   "cell_type": "code",
   "execution_count": 5,
   "id": "0bce122d",
   "metadata": {},
   "outputs": [
    {
     "data": {
      "text/plain": [
       "name               object\n",
       "genre              object\n",
       "type               object\n",
       "episodes           object\n",
       "rating            float64\n",
       "members             int64\n",
       "japanese_title     object\n",
       "aired              object\n",
       "image_url          object\n",
       "dtype: object"
      ]
     },
     "execution_count": 5,
     "metadata": {},
     "output_type": "execute_result"
    }
   ],
   "source": [
    "anime_df.dtypes"
   ]
  },
  {
   "cell_type": "code",
   "execution_count": 6,
   "id": "0d70f2f8",
   "metadata": {},
   "outputs": [
    {
     "data": {
      "text/plain": [
       "user_id     int64\n",
       "anime_id    int64\n",
       "rating      int64\n",
       "dtype: object"
      ]
     },
     "execution_count": 6,
     "metadata": {},
     "output_type": "execute_result"
    }
   ],
   "source": [
    "rating_df.dtypes"
   ]
  },
  {
   "cell_type": "markdown",
   "id": "c3d475d3",
   "metadata": {},
   "source": [
    "# 2. 数据规模"
   ]
  },
  {
   "cell_type": "code",
   "execution_count": 9,
   "id": "995206ca",
   "metadata": {},
   "outputs": [],
   "source": [
    "uniq_anime_count = rating_df['anime_id'].nunique()\n",
    "uniq_user_count = rating_df['user_id'].nunique()"
   ]
  },
  {
   "cell_type": "code",
   "execution_count": 8,
   "id": "6826fee5",
   "metadata": {},
   "outputs": [
    {
     "data": {
      "text/plain": [
       "11200"
      ]
     },
     "execution_count": 8,
     "metadata": {},
     "output_type": "execute_result"
    }
   ],
   "source": [
    "uniq_anime_count"
   ]
  },
  {
   "cell_type": "code",
   "execution_count": 10,
   "id": "54a721be",
   "metadata": {},
   "outputs": [
    {
     "data": {
      "text/plain": [
       "73515"
      ]
     },
     "execution_count": 10,
     "metadata": {},
     "output_type": "execute_result"
    }
   ],
   "source": [
    "uniq_user_count"
   ]
  },
  {
   "cell_type": "code",
   "execution_count": 11,
   "id": "606a5699",
   "metadata": {},
   "outputs": [
    {
     "data": {
      "text/plain": [
       "7813737"
      ]
     },
     "execution_count": 11,
     "metadata": {},
     "output_type": "execute_result"
    }
   ],
   "source": [
    "rating_df.shape[0]"
   ]
  },
  {
   "cell_type": "markdown",
   "id": "78ec74f7",
   "metadata": {},
   "source": [
    "# 3. 数据分布"
   ]
  },
  {
   "cell_type": "code",
   "execution_count": 18,
   "id": "8cdd396b",
   "metadata": {},
   "outputs": [
    {
     "data": {
      "text/plain": [
       "11"
      ]
     },
     "execution_count": 18,
     "metadata": {},
     "output_type": "execute_result"
    }
   ],
   "source": [
    "uniq_ratings = rating_df['rating'].nunique()\n",
    "uniq_ratings"
   ]
  },
  {
   "cell_type": "code",
   "execution_count": 20,
   "id": "6dc381b6",
   "metadata": {},
   "outputs": [
    {
     "data": {
      "text/plain": [
       "<AxesSubplot:ylabel='Frequency'>"
      ]
     },
     "execution_count": 20,
     "metadata": {},
     "output_type": "execute_result"
    },
    {
     "data": {
      "image/png": "[encoded data removed]",
      "text/plain": [
       "<Figure size 432x288 with 1 Axes>"
      ]
     },
     "metadata": {
      "needs_background": "light"
     },
     "output_type": "display_data"
    }
   ],
   "source": [
    "rating_df['rating'].plot.hist(bins=2*uniq_ratings + 1)"
   ]
  },
  {
   "cell_type": "code",
   "execution_count": 21,
   "id": "31efd796",
   "metadata": {},
   "outputs": [
    {
     "data": {
      "text/plain": [
       "count    6.337241e+06\n",
       "mean     7.808497e+00\n",
       "std      1.572496e+00\n",
       "min      1.000000e+00\n",
       "25%      7.000000e+00\n",
       "50%      8.000000e+00\n",
       "75%      9.000000e+00\n",
       "max      1.000000e+01\n",
       "Name: rating, dtype: float64"
      ]
     },
     "execution_count": 21,
     "metadata": {},
     "output_type": "execute_result"
    }
   ],
   "source": [
    "rating_df.query('rating > 0')['rating'].describe()"
   ]
  },
  {
   "cell_type": "code",
   "execution_count": 22,
   "id": "ede793ac",
   "metadata": {},
   "outputs": [],
   "source": [
    "valid_rating_df = rating_df[rating_df['rating'] > 0]"
   ]
  },
  {
   "cell_type": "markdown",
   "id": "4b75bd50",
   "metadata": {},
   "source": [
    "### 3.1 每部动漫的评分数"
   ]
  },
  {
   "cell_type": "code",
   "execution_count": 23,
   "id": "ece2da4e",
   "metadata": {},
   "outputs": [],
   "source": [
    "rating_groupby = valid_rating_df.groupby(['anime_id']).count()"
   ]
  },
  {
   "cell_type": "code",
   "execution_count": 24,
   "id": "f38dbff8",
   "metadata": {},
   "outputs": [
    {
     "data": {
      "text/plain": [
       "<AxesSubplot:ylabel='Frequency'>"
      ]
     },
     "execution_count": 24,
     "metadata": {},
     "output_type": "execute_result"
    },
    {
     "data": {
      "image/png": "[encoded data removed]",
      "text/plain": [
       "<Figure size 864x576 with 1 Axes>"
      ]
     },
     "metadata": {
      "needs_background": "light"
     },
     "output_type": "display_data"
    }
   ],
   "source": [
    "rating_groupby.plot.hist(bins=100, grid=True, figsize=[12, 8], alpha=0.5)"
   ]
  },
  {
   "cell_type": "code",
   "execution_count": 25,
   "id": "1b24dc28",
   "metadata": {},
   "outputs": [
    {
     "data": {
      "text/html": [
       "<div>\n",
       "<style scoped>\n",
       "    .dataframe tbody tr th:only-of-type {\n",
       "        vertical-align: middle;\n",
       "    }\n",
       "\n",
       "    .dataframe tbody tr th {\n",
       "        vertical-align: top;\n",
       "    }\n",
       "\n",
       "    .dataframe thead th {\n",
       "        text-align: right;\n",
       "    }\n",
       "</style>\n",
       "<table border=\"1\" class=\"dataframe\">\n",
       "  <thead>\n",
       "    <tr style=\"text-align: right;\">\n",
       "      <th></th>\n",
       "      <th>user_id</th>\n",
       "      <th>rating</th>\n",
       "    </tr>\n",
       "  </thead>\n",
       "  <tbody>\n",
       "    <tr>\n",
       "      <th>count</th>\n",
       "      <td>9927.000000</td>\n",
       "      <td>9927.000000</td>\n",
       "    </tr>\n",
       "    <tr>\n",
       "      <th>mean</th>\n",
       "      <td>638.384305</td>\n",
       "      <td>638.384305</td>\n",
       "    </tr>\n",
       "    <tr>\n",
       "      <th>std</th>\n",
       "      <td>1795.865541</td>\n",
       "      <td>1795.865541</td>\n",
       "    </tr>\n",
       "    <tr>\n",
       "      <th>min</th>\n",
       "      <td>1.000000</td>\n",
       "      <td>1.000000</td>\n",
       "    </tr>\n",
       "    <tr>\n",
       "      <th>25%</th>\n",
       "      <td>9.000000</td>\n",
       "      <td>9.000000</td>\n",
       "    </tr>\n",
       "    <tr>\n",
       "      <th>50%</th>\n",
       "      <td>57.000000</td>\n",
       "      <td>57.000000</td>\n",
       "    </tr>\n",
       "    <tr>\n",
       "      <th>75%</th>\n",
       "      <td>395.000000</td>\n",
       "      <td>395.000000</td>\n",
       "    </tr>\n",
       "    <tr>\n",
       "      <th>max</th>\n",
       "      <td>34226.000000</td>\n",
       "      <td>34226.000000</td>\n",
       "    </tr>\n",
       "  </tbody>\n",
       "</table>\n",
       "</div>"
      ],
      "text/plain": [
       "            user_id        rating\n",
       "count   9927.000000   9927.000000\n",
       "mean     638.384305    638.384305\n",
       "std     1795.865541   1795.865541\n",
       "min        1.000000      1.000000\n",
       "25%        9.000000      9.000000\n",
       "50%       57.000000     57.000000\n",
       "75%      395.000000    395.000000\n",
       "max    34226.000000  34226.000000"
      ]
     },
     "execution_count": 25,
     "metadata": {},
     "output_type": "execute_result"
    }
   ],
   "source": [
    "rating_groupby.describe()"
   ]
  },
  {
   "cell_type": "markdown",
   "id": "458dd36e",
   "metadata": {},
   "source": [
    "### 3.2 每个用户的评分"
   ]
  },
  {
   "cell_type": "code",
   "execution_count": 26,
   "id": "a694eac6",
   "metadata": {},
   "outputs": [],
   "source": [
    "user_rating_count = valid_rating_df.groupby(['user_id']).count()"
   ]
  },
  {
   "cell_type": "code",
   "execution_count": 27,
   "id": "0c71750c",
   "metadata": {},
   "outputs": [
    {
     "data": {
      "text/plain": [
       "<AxesSubplot:ylabel='Frequency'>"
      ]
     },
     "execution_count": 27,
     "metadata": {},
     "output_type": "execute_result"
    },
    {
     "data": {
      "image/png": "[encoded data removed]",
      "text/plain": [
       "<Figure size 864x576 with 1 Axes>"
      ]
     },
     "metadata": {
      "needs_background": "light"
     },
     "output_type": "display_data"
    }
   ],
   "source": [
    "user_rating_count.plot.hist(bins=100, grid=True, figsize=[12, 8], alpha=0.5)"
   ]
  },
  {
   "cell_type": "code",
   "execution_count": 28,
   "id": "f02c8958",
   "metadata": {},
   "outputs": [
    {
     "data": {
      "text/html": [
       "<div>\n",
       "<style scoped>\n",
       "    .dataframe tbody tr th:only-of-type {\n",
       "        vertical-align: middle;\n",
       "    }\n",
       "\n",
       "    .dataframe tbody tr th {\n",
       "        vertical-align: top;\n",
       "    }\n",
       "\n",
       "    .dataframe thead th {\n",
       "        text-align: right;\n",
       "    }\n",
       "</style>\n",
       "<table border=\"1\" class=\"dataframe\">\n",
       "  <thead>\n",
       "    <tr style=\"text-align: right;\">\n",
       "      <th></th>\n",
       "      <th>anime_id</th>\n",
       "      <th>rating</th>\n",
       "    </tr>\n",
       "  </thead>\n",
       "  <tbody>\n",
       "    <tr>\n",
       "      <th>count</th>\n",
       "      <td>69600.000000</td>\n",
       "      <td>69600.000000</td>\n",
       "    </tr>\n",
       "    <tr>\n",
       "      <th>mean</th>\n",
       "      <td>91.052313</td>\n",
       "      <td>91.052313</td>\n",
       "    </tr>\n",
       "    <tr>\n",
       "      <th>std</th>\n",
       "      <td>135.764253</td>\n",
       "      <td>135.764253</td>\n",
       "    </tr>\n",
       "    <tr>\n",
       "      <th>min</th>\n",
       "      <td>1.000000</td>\n",
       "      <td>1.000000</td>\n",
       "    </tr>\n",
       "    <tr>\n",
       "      <th>25%</th>\n",
       "      <td>13.000000</td>\n",
       "      <td>13.000000</td>\n",
       "    </tr>\n",
       "    <tr>\n",
       "      <th>50%</th>\n",
       "      <td>45.000000</td>\n",
       "      <td>45.000000</td>\n",
       "    </tr>\n",
       "    <tr>\n",
       "      <th>75%</th>\n",
       "      <td>114.000000</td>\n",
       "      <td>114.000000</td>\n",
       "    </tr>\n",
       "    <tr>\n",
       "      <th>max</th>\n",
       "      <td>3747.000000</td>\n",
       "      <td>3747.000000</td>\n",
       "    </tr>\n",
       "  </tbody>\n",
       "</table>\n",
       "</div>"
      ],
      "text/plain": [
       "           anime_id        rating\n",
       "count  69600.000000  69600.000000\n",
       "mean      91.052313     91.052313\n",
       "std      135.764253    135.764253\n",
       "min        1.000000      1.000000\n",
       "25%       13.000000     13.000000\n",
       "50%       45.000000     45.000000\n",
       "75%      114.000000    114.000000\n",
       "max     3747.000000   3747.000000"
      ]
     },
     "execution_count": 28,
     "metadata": {},
     "output_type": "execute_result"
    }
   ],
   "source": [
    "user_rating_count.describe()"
   ]
  },
  {
   "cell_type": "markdown",
   "id": "5513236d",
   "metadata": {},
   "source": [
    "### 3.3 动漫类型分布"
   ]
  },
  {
   "cell_type": "code",
   "execution_count": 29,
   "id": "997f7197",
   "metadata": {},
   "outputs": [],
   "source": [
    "genres = {}"
   ]
  },
  {
   "cell_type": "code",
   "execution_count": 31,
   "id": "7c064076",
   "metadata": {},
   "outputs": [
    {
     "name": "stdout",
     "output_type": "stream",
     "text": [
      "{'Drama': 2016, 'Romance': 1464, 'School': 1220, 'Supernatural': 1037, 'Action': 2845, 'Adventure': 2348, 'Fantasy': 2309, 'Magic': 778, 'Military': 426, 'Shounen': 1712, 'Comedy': 4645, 'Historical': 806, 'Parody': 408, 'Samurai': 148, 'Sci-Fi': 2070, 'Thriller': 87, 'Sports': 543, 'Super Power': 465, 'Space': 381, 'Slice of Life': 1220, 'Mecha': 944, 'Music': 860, 'Mystery': 495, 'Seinen': 547, 'Martial Arts': 265, 'Vampire': 102, 'Shoujo': 603, 'Horror': 369, 'Police': 197, 'Psychological': 229, 'Demons': 294, 'Ecchi': 637, 'Josei': 54, 'Shounen Ai': 65, 'Game': 181, 'Dementia': 240, 'Harem': 317, 'Cars': 72, 'Kids': 1609, 'Shoujo Ai': 55, 'Hentai': 1141, 'Yaoi': 39, 'Yuri': 42}\n"
     ]
    }
   ],
   "source": [
    "for (index, row) in anime_df.iterrows():\n",
    "    try:\n",
    "        anime_genres = [g.strip() for g in row['genre'].split(',')]\n",
    "        for genre in anime_genres:\n",
    "            if genre not in genres:\n",
    "                genres[genre] = 0\n",
    "            genres[genre] += 1\n",
    "    except:\n",
    "        pass\n",
    "    \n",
    "print(genres)"
   ]
  },
  {
   "cell_type": "code",
   "execution_count": 34,
   "id": "a2645184",
   "metadata": {},
   "outputs": [
    {
     "data": {
      "image/png": "[encoded data removed]",
      "text/plain": [
       "<Figure size 1440x720 with 1 Axes>"
      ]
     },
     "metadata": {
      "needs_background": "light"
     },
     "output_type": "display_data"
    }
   ],
   "source": [
    "import matplotlib.pyplot as plt\n",
    "\n",
    "fig = plt.figure(figsize=(20, 10))\n",
    "ax = fig.add_axes([0, 0, 1, 1])\n",
    "\n",
    "tuples = sorted(genres.items(), key=lambda x: x[1])\n",
    "labels = [t[0] for t in tuples]\n",
    "values = [t[1] for t in tuples]\n",
    "ax.bar(labels, values)\n",
    "\n",
    "plt.xticks(rotation=70, fontsize=15)\n",
    "plt.show()"
   ]
  },
  {
   "cell_type": "markdown",
   "id": "5f6498d4",
   "metadata": {},
   "source": [
    "# 4. 评分前几名的动漫"
   ]
  },
  {
   "cell_type": "code",
   "execution_count": null,
   "id": "fa1653fa",
   "metadata": {},
   "outputs": [],
   "source": []
  },
  {
   "cell_type": "markdown",
   "id": "5c8949cc",
   "metadata": {},
   "source": [
    "# 5. 评分数量和评分高低的关系"
   ]
  },
  {
   "cell_type": "code",
   "execution_count": 39,
   "id": "a5202d36",
   "metadata": {},
   "outputs": [
    {
     "data": {
      "text/html": [
       "<div>\n",
       "<style scoped>\n",
       "    .dataframe tbody tr th:only-of-type {\n",
       "        vertical-align: middle;\n",
       "    }\n",
       "\n",
       "    .dataframe tbody tr th {\n",
       "        vertical-align: top;\n",
       "    }\n",
       "\n",
       "    .dataframe thead th {\n",
       "        text-align: right;\n",
       "    }\n",
       "</style>\n",
       "<table border=\"1\" class=\"dataframe\">\n",
       "  <thead>\n",
       "    <tr style=\"text-align: right;\">\n",
       "      <th></th>\n",
       "      <th>count</th>\n",
       "      <th>mean</th>\n",
       "    </tr>\n",
       "    <tr>\n",
       "      <th>anime_id</th>\n",
       "      <th></th>\n",
       "      <th></th>\n",
       "    </tr>\n",
       "  </thead>\n",
       "  <tbody>\n",
       "    <tr>\n",
       "      <th>1</th>\n",
       "      <td>13449</td>\n",
       "      <td>8.869433</td>\n",
       "    </tr>\n",
       "    <tr>\n",
       "      <th>5</th>\n",
       "      <td>5790</td>\n",
       "      <td>8.439724</td>\n",
       "    </tr>\n",
       "    <tr>\n",
       "      <th>6</th>\n",
       "      <td>9385</td>\n",
       "      <td>8.419393</td>\n",
       "    </tr>\n",
       "    <tr>\n",
       "      <th>7</th>\n",
       "      <td>2169</td>\n",
       "      <td>7.533426</td>\n",
       "    </tr>\n",
       "    <tr>\n",
       "      <th>8</th>\n",
       "      <td>308</td>\n",
       "      <td>7.198052</td>\n",
       "    </tr>\n",
       "    <tr>\n",
       "      <th>...</th>\n",
       "      <td>...</td>\n",
       "      <td>...</td>\n",
       "    </tr>\n",
       "    <tr>\n",
       "      <th>34324</th>\n",
       "      <td>11</td>\n",
       "      <td>5.909091</td>\n",
       "    </tr>\n",
       "    <tr>\n",
       "      <th>34325</th>\n",
       "      <td>15</td>\n",
       "      <td>7.333333</td>\n",
       "    </tr>\n",
       "    <tr>\n",
       "      <th>34349</th>\n",
       "      <td>3</td>\n",
       "      <td>7.000000</td>\n",
       "    </tr>\n",
       "    <tr>\n",
       "      <th>34367</th>\n",
       "      <td>4</td>\n",
       "      <td>5.250000</td>\n",
       "    </tr>\n",
       "    <tr>\n",
       "      <th>34475</th>\n",
       "      <td>3</td>\n",
       "      <td>6.666667</td>\n",
       "    </tr>\n",
       "  </tbody>\n",
       "</table>\n",
       "<p>9927 rows × 2 columns</p>\n",
       "</div>"
      ],
      "text/plain": [
       "          count      mean\n",
       "anime_id                 \n",
       "1         13449  8.869433\n",
       "5          5790  8.439724\n",
       "6          9385  8.419393\n",
       "7          2169  7.533426\n",
       "8           308  7.198052\n",
       "...         ...       ...\n",
       "34324        11  5.909091\n",
       "34325        15  7.333333\n",
       "34349         3  7.000000\n",
       "34367         4  5.250000\n",
       "34475         3  6.666667\n",
       "\n",
       "[9927 rows x 2 columns]"
      ]
     },
     "execution_count": 39,
     "metadata": {},
     "output_type": "execute_result"
    }
   ],
   "source": [
    "groupby_df = valid_rating_df \\\n",
    "    .groupby(['anime_id']) \\\n",
    "    .agg({\n",
    "        'rating': ['count', 'mean']\n",
    "    }) \\\n",
    "    .droplevel(axis=1, level=0)\n",
    "groupby_df"
   ]
  },
  {
   "cell_type": "code",
   "execution_count": 40,
   "id": "2ca34ba4",
   "metadata": {},
   "outputs": [
    {
     "data": {
      "text/plain": [
       "<AxesSubplot:xlabel='count', ylabel='mean'>"
      ]
     },
     "execution_count": 40,
     "metadata": {},
     "output_type": "execute_result"
    },
    {
     "data": {
      "image/png": "[encoded data removed]",
      "text/plain": [
       "<Figure size 864x576 with 1 Axes>"
      ]
     },
     "metadata": {
      "needs_background": "light"
     },
     "output_type": "display_data"
    }
   ],
   "source": [
    "groupby_df.plot.scatter(x='count', y='mean', grid=True, figsize=[12, 8])"
   ]
  },
  {
   "cell_type": "code",
   "execution_count": null,
   "id": "6447f605",
   "metadata": {},
   "outputs": [],
   "source": []
  }
 ],
 "metadata": {
  "kernelspec": {
   "display_name": "Python 3",
   "language": "python",
   "name": "python3"
  },
  "language_info": {
   "codemirror_mode": {
    "name": "ipython",
    "version": 3
   },
   "file_extension": ".py",
   "mimetype": "text/x-python",
   "name": "python",
   "nbconvert_exporter": "python",
   "pygments_lexer": "ipython3",
   "version": "3.8.5"
  }
 },
 "nbformat": 4,
 "nbformat_minor": 5
}
